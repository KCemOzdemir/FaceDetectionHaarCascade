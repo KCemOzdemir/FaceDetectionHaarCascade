{
  "nbformat": 4,
  "nbformat_minor": 0,
  "metadata": {
    "colab": {
      "name": "FaceDetection.ipynb",
      "provenance": [],
      "toc_visible": true,
      "mount_file_id": "1TB-WqFTghZ7Q7wIH0zoaE2LMyvcqs2Pb",
      "authorship_tag": "ABX9TyMYckdq80Sso2a87xTmyZ3J",
      "include_colab_link": true
    },
    "kernelspec": {
      "name": "python3",
      "display_name": "Python 3"
    }
  },
  "cells": [
    {
      "cell_type": "markdown",
      "metadata": {
        "id": "view-in-github",
        "colab_type": "text"
      },
      "source": [
        "<a href=\"https://colab.research.google.com/github/KCemOzdemir/FaceDetectionHaarCascade/blob/main/FaceDetection.ipynb\" target=\"_parent\"><img src=\"https://colab.research.google.com/assets/colab-badge.svg\" alt=\"Open In Colab\"/></a>"
      ]
    },
    {
      "cell_type": "markdown",
      "metadata": {
        "id": "yuKkePP8lPvT"
      },
      "source": [
        "#Haar Cascades kullanarak yüz tanıma uygulaması\r\n",
        "Aşağıdaki linkleri kullanarak HaarCascades ile ilgili gerekli bilgilere ulaşabilirsiniz.\r\n",
        "\r\n",
        "Kısa ve öz şekilde anlatmak gerekirse\r\n",
        "\r\n",
        "Haar özellik seçiciyle yüzden belli özellikler seçilir\r\n",
        "\r\n",
        "Fotoğraf integral fotoğrafına dönüştürülür\r\n",
        "\r\n",
        "Adaboost ile train edilir\r\n",
        "\r\n",
        "Cascade Sınıflandırıcı ile sınıflandırılır.\r\n",
        "\r\n",
        "[Algoritması](https://media.springernature.com/original/springer-static/image/chp%3A10.1007%2F978-981-13-5859-3_78/MediaObjects/465028_1_En_78_Fig1_HTML.png)\r\n",
        "\r\n",
        "[Viola Jones Algoritması](https://www.youtube.com/watch?v=WfdYYNamHZ8)\r\n",
        "\r\n",
        "[OpenCV Haar Cascades Dökümanı](https://opencv-python-tutroals.readthedocs.io/en/latest/py_tutorials/py_objdetect/py_face_detection/py_face_detection.html)\r\n",
        "\r\n",
        "[Önceden Eğitilmiş Modeller](https://github.com/opencv/opencv/tree/master/data/haarcascades)"
      ]
    },
    {
      "cell_type": "code",
      "metadata": {
        "colab": {
          "base_uri": "https://localhost:8080/"
        },
        "id": "tE4xE5O_jx61",
        "outputId": "00e0bdb1-d540-4258-f92d-22d4e4f5a7cd"
      },
      "source": [
        "import cv2\r\n",
        "import imageio\r\n",
        "import os\r\n",
        "\r\n",
        "os.chdir(\"/content/drive/MyDrive/HaarCascade\")\r\n",
        "!pwd"
      ],
      "execution_count": 3,
      "outputs": [
        {
          "output_type": "stream",
          "text": [
            "/content/drive/MyDrive/HaarCascade\n"
          ],
          "name": "stdout"
        }
      ]
    },
    {
      "cell_type": "code",
      "metadata": {
        "id": "LPv0g5Z4mpUl"
      },
      "source": [
        "face_cascade = cv2.CascadeClassifier(\"/content/drive/MyDrive/HaarCascade/haarcascade-frontalface-default.xml\")\r\n",
        "eye_cascade = cv2.CascadeClassifier(\"/content/drive/MyDrive/HaarCascade/haarcascade-eye.xml\")"
      ],
      "execution_count": 4,
      "outputs": []
    },
    {
      "cell_type": "code",
      "metadata": {
        "id": "gvVtGSPxpJkV"
      },
      "source": [
        "def detect(frame):\r\n",
        "  gray = cv2.cvtColor(frame, cv2.COLOR_BGR2GRAY)\r\n",
        "  faces = face_cascade.detectMultiScale(gray, 1.3, 5)\r\n",
        "  for (x, y, w, h) in faces:\r\n",
        "    cv2.rectangle(frame, (x, y), (x+w, y+h), (0, 255, 0), 2)\r\n",
        "    gray_face = gray[y:y+h, x:x+w]\r\n",
        "    color_face = frame[y:y+h, x:x+w]\r\n",
        "    eyes = eye_cascade.detectMultiScale(gray_face, 1.1, 3)\r\n",
        "    for (ex, ey, ew, eh) in eyes:\r\n",
        "      cv2.rectangle(color_face, (ex, ey), (ex+ew, ey+eh), (0, 0, 255), 1)\r\n",
        "  return frame"
      ],
      "execution_count": 7,
      "outputs": []
    },
    {
      "cell_type": "code",
      "metadata": {
        "id": "V689ftvRrvaV"
      },
      "source": [
        "reader = imageio.get_reader('/content/drive/MyDrive/HaarCascade/1.mp4')\r\n",
        "fps = reader.get_meta_data()['fps']"
      ],
      "execution_count": 9,
      "outputs": []
    },
    {
      "cell_type": "code",
      "metadata": {
        "colab": {
          "base_uri": "https://localhost:8080/"
        },
        "id": "6pe0hgAjsDpG",
        "outputId": "b149d697-88bf-4c7e-d838-6e8b13fac9ff"
      },
      "source": [
        "writer = imageio.get_writer('output.mp4', fps=fps)\r\n",
        "for i, frame in enumerate(reader):\r\n",
        "  frame = detect(frame)\r\n",
        "  writer.append_data(frame)\r\n",
        "writer.close() "
      ],
      "execution_count": 10,
      "outputs": [
        {
          "output_type": "stream",
          "text": [
            "WARNING:root:IMAGEIO FFMPEG_WRITER WARNING: input image is not divisible by macro_block_size=16, resizing from (1080, 1920) to (1088, 1920) to ensure video compatibility with most codecs and players. To prevent resizing, make your input image divisible by the macro_block_size or set the macro_block_size to None (risking incompatibility). You may also see a FFMPEG warning concerning speedloss due to data not being aligned.\n"
          ],
          "name": "stderr"
        }
      ]
    }
  ]
}